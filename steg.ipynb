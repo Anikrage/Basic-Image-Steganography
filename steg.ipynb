{
 "cells": [
  {
   "cell_type": "code",
   "execution_count": 1,
   "metadata": {},
   "outputs": [],
   "source": [
    "import cv2\n",
    "import numpy as np\n",
    "import matplotlib.pyplot as plt"
   ]
  },
  {
   "cell_type": "code",
   "execution_count": 2,
   "metadata": {},
   "outputs": [],
   "source": [
    "def bin_maker(data_img):\n",
    "    binary_array=np.unpackbits(data_img, axis=-1)\n",
    "    binary_array=binary_array.reshape(data_img.shape[0],data_img.shape[1],-1,2)\n",
    "    flat_array=binary_array.flatten()\n",
    "    return flat_array,len(flat_array)"
   ]
  },
  {
   "cell_type": "code",
   "execution_count": 3,
   "metadata": {},
   "outputs": [],
   "source": [
    "def bin_pack(data_img):\n",
    "    binary_array=data_img.reshape(64,64,4,2)\n",
    "    # Reshape the grouped binary array to match the original shape\n",
    "    reshaped_array = binary_array.reshape(binary_array.shape[0],binary_array.shape[1], -1)\n",
    "\n",
    "    # Convert each grouped binary representation back to integers\n",
    "    int_array = np.packbits(reshaped_array, axis=-1).reshape(binary_array.shape[0],binary_array.shape[1])\n",
    "\n",
    "    return int_array\n"
   ]
  },
  {
   "cell_type": "code",
   "execution_count": 4,
   "metadata": {},
   "outputs": [],
   "source": [
    "def hide_image(cover_path,secret_path,output_path):\n",
    "    cover =cv2.imread(cover_path,cv2.IMREAD_GRAYSCALE)\n",
    "    secret =cv2.imread(secret_path,cv2.IMREAD_GRAYSCALE)\n",
    "    \n",
    "    secret_rs=cv2.resize(secret,(64,64),cv2.INTER_AREA)\n",
    "    \n",
    "    bin_array,size=bin_maker(secret_rs)\n",
    "    \n",
    "    stego=np.copy(cover)\n",
    "    rows,cols=cover.shape\n",
    "    \n",
    "    index=0\n",
    "    for row in range(rows) :\n",
    "        for col in range(cols):\n",
    "            cover_pixel=cover[row,col]\n",
    "            stego[row,col]={cover_pixel & 0xFE} | {bin_array[index]}\n",
    "            index+=1\n",
    "            if(index==size):\n",
    "                break\n",
    "        if(index==size):\n",
    "            break\n",
    "        \n",
    "    cv2.imwrite(output_path,stego)\n",
    "    print(\"image hidden succesfully\")\n",
    "            "
   ]
  },
  {
   "cell_type": "code",
   "execution_count": 6,
   "metadata": {},
   "outputs": [],
   "source": [
    "def reveal_image(stego_path, output_path):\n",
    "    stego = cv2.imread(stego_path, cv2.IMREAD_GRAYSCALE)\n",
    "    xplc=cv2.resize(stego,(64,64),cv2.INTER_AREA)\n",
    "    revealed = np.zeros_like(xplc)\n",
    "\n",
    "    size=32768\n",
    "    index = 0\n",
    "    rows, cols = stego.shape\n",
    "\n",
    "    for row in range(rows):\n",
    "        for col in range(cols):\n",
    "            stego_pixel = stego[row, col]\n",
    "            # Extract the least significant bit as the secret pixel's value\n",
    "            revealed_pixel = (stego_pixel & 0x01) << 7\n",
    "            revealed[row, col] = revealed_pixel\n",
    "            index+=1\n",
    "            if(index==size):\n",
    "                break\n",
    "        if (index==size):\n",
    "            break\n",
    "\n",
    "    cv2.imwrite(output_path, revealed)\n",
    "    print(\"Secret image revealed successfully!\")"
   ]
  },
  {
   "cell_type": "code",
   "execution_count": null,
   "metadata": {},
   "outputs": [],
   "source": []
  }
 ],
 "metadata": {
  "kernelspec": {
   "display_name": "Python 3",
   "language": "python",
   "name": "python3"
  },
  "language_info": {
   "codemirror_mode": {
    "name": "ipython",
    "version": 3
   },
   "file_extension": ".py",
   "mimetype": "text/x-python",
   "name": "python",
   "nbconvert_exporter": "python",
   "pygments_lexer": "ipython3",
   "version": "3.10.0"
  },
  "orig_nbformat": 4
 },
 "nbformat": 4,
 "nbformat_minor": 2
}
